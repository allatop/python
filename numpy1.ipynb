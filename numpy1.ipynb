{
  "nbformat": 4,
  "nbformat_minor": 0,
  "metadata": {
    "colab": {
      "provenance": [],
      "include_colab_link": true
    },
    "kernelspec": {
      "name": "python3",
      "display_name": "Python 3"
    },
    "language_info": {
      "name": "python"
    }
  },
  "cells": [
    {
      "cell_type": "markdown",
      "metadata": {
        "id": "view-in-github",
        "colab_type": "text"
      },
      "source": [
        "<a href=\"https://colab.research.google.com/github/allatop/python/blob/main/numpy1.ipynb\" target=\"_parent\"><img src=\"https://colab.research.google.com/assets/colab-badge.svg\" alt=\"Open In Colab\"/></a>"
      ]
    },
    {
      "cell_type": "code",
      "source": [
        "import numpy as np\n",
        "\n",
        "arr = np.arange(9)\n",
        "\n",
        "arr"
      ],
      "metadata": {
        "colab": {
          "base_uri": "https://localhost:8080/"
        },
        "id": "MuJkOaOp5qwx",
        "outputId": "8f6bfc80-b3fb-43d3-e96c-f1e4e897529b"
      },
      "execution_count": null,
      "outputs": [
        {
          "output_type": "execute_result",
          "data": {
            "text/plain": [
              "array([0, 1, 2, 3, 4, 5, 6, 7, 8])"
            ]
          },
          "metadata": {},
          "execution_count": 1
        }
      ]
    },
    {
      "cell_type": "code",
      "source": [
        "arr_n = arr.reshape(3,3)\n",
        "arr_n"
      ],
      "metadata": {
        "colab": {
          "base_uri": "https://localhost:8080/"
        },
        "id": "REwi76IC5-JI",
        "outputId": "296d8394-727e-4093-c81d-bfd62bc91020"
      },
      "execution_count": null,
      "outputs": [
        {
          "output_type": "execute_result",
          "data": {
            "text/plain": [
              "array([[0, 1, 2],\n",
              "       [3, 4, 5],\n",
              "       [6, 7, 8]])"
            ]
          },
          "metadata": {},
          "execution_count": 11
        }
      ]
    },
    {
      "cell_type": "code",
      "source": [
        "arr_n[::-1, ::-1]"
      ],
      "metadata": {
        "colab": {
          "base_uri": "https://localhost:8080/"
        },
        "id": "xM1Z6xo457wR",
        "outputId": "88d9d2a7-fb07-4059-dd05-e0d1d09525b7"
      },
      "execution_count": null,
      "outputs": [
        {
          "output_type": "execute_result",
          "data": {
            "text/plain": [
              "array([[8, 7, 6],\n",
              "       [5, 4, 3],\n",
              "       [2, 1, 0]])"
            ]
          },
          "metadata": {},
          "execution_count": 21
        }
      ]
    },
    {
      "cell_type": "markdown",
      "source": [
        "## **Блок №1: Базовый уровень**\n",
        "\n",
        "### Задание №1: Создание массивов\n",
        "\n",
        "а) Создайте одномерный массив из 12 элементов, заполненный числами 2:"
      ],
      "metadata": {
        "id": "0kIBJG0XwPUs"
      }
    },
    {
      "cell_type": "code",
      "source": [
        "arr = np.full((12),2)\n",
        "arr"
      ],
      "metadata": {
        "id": "hXfxN6mTgpF-",
        "colab": {
          "base_uri": "https://localhost:8080/"
        },
        "outputId": "d861cfc3-7b9e-4b71-ded4-d9727b287728"
      },
      "execution_count": null,
      "outputs": [
        {
          "output_type": "execute_result",
          "data": {
            "text/plain": [
              "array([2, 2, 2, 2, 2, 2, 2, 2, 2, 2, 2, 2])"
            ]
          },
          "metadata": {},
          "execution_count": 64
        }
      ]
    },
    {
      "cell_type": "markdown",
      "source": [
        "б) Создайте двумерный массив размером 6x4, заполненный числами от 1 до 24:\n"
      ],
      "metadata": {
        "id": "sX4xINnVwThk"
      }
    },
    {
      "cell_type": "code",
      "source": [
        "a = np.random.randint(1,24,(6,4))\n",
        "a"
      ],
      "metadata": {
        "id": "dBTazKhEwU8Q",
        "colab": {
          "base_uri": "https://localhost:8080/"
        },
        "outputId": "abfc53e2-ff4a-416c-f320-744a817c210c"
      },
      "execution_count": null,
      "outputs": [
        {
          "output_type": "execute_result",
          "data": {
            "text/plain": [
              "array([[21, 22, 21, 12],\n",
              "       [17,  4, 12, 15],\n",
              "       [17,  4, 12, 12],\n",
              "       [ 1, 21,  4,  2],\n",
              "       [ 7,  2,  1,  3],\n",
              "       [ 6,  5, 16, 19]])"
            ]
          },
          "metadata": {},
          "execution_count": 65
        }
      ]
    },
    {
      "cell_type": "markdown",
      "source": [
        "в) Создайте трехмерный массив размером 3x3x3 со случайными числами от 0 до 1:\n"
      ],
      "metadata": {
        "id": "q8vtIFU8wcNH"
      }
    },
    {
      "cell_type": "code",
      "source": [
        "a = np.random.randint(0,2,(3,3,3))\n",
        "a"
      ],
      "metadata": {
        "id": "U0JJtwvpwWaJ",
        "colab": {
          "base_uri": "https://localhost:8080/"
        },
        "outputId": "9fafb48d-fdba-4c25-cbee-7b892c026655"
      },
      "execution_count": null,
      "outputs": [
        {
          "output_type": "execute_result",
          "data": {
            "text/plain": [
              "array([[[0, 1, 0],\n",
              "        [1, 1, 0],\n",
              "        [1, 1, 0]],\n",
              "\n",
              "       [[1, 1, 0],\n",
              "        [1, 0, 1],\n",
              "        [0, 0, 1]],\n",
              "\n",
              "       [[0, 1, 1],\n",
              "        [0, 1, 1],\n",
              "        [1, 1, 0]]])"
            ]
          },
          "metadata": {},
          "execution_count": 67
        }
      ]
    },
    {
      "cell_type": "markdown",
      "source": [
        "### **Задание №2: Индексация и срезы**\n",
        "\n",
        "а) Извлеките пятый элемент из созданного одномерного массива из двоек:"
      ],
      "metadata": {
        "id": "e5yD2_U_whme"
      }
    },
    {
      "cell_type": "code",
      "source": [
        "import numpy as np\n",
        "\n",
        "arr = np.full((12),2)\n",
        "\n",
        "s = arr[4]\n",
        "\n",
        "s"
      ],
      "metadata": {
        "id": "2H9PNmwYwX6A",
        "colab": {
          "base_uri": "https://localhost:8080/"
        },
        "outputId": "c4ce99ee-5397-4fa2-c1b8-5aa2007ed75d"
      },
      "execution_count": null,
      "outputs": [
        {
          "output_type": "execute_result",
          "data": {
            "text/plain": [
              "2"
            ]
          },
          "metadata": {},
          "execution_count": 68
        }
      ]
    },
    {
      "cell_type": "markdown",
      "source": [
        "б) Выберите третью колонку из двумерного массива:\n"
      ],
      "metadata": {
        "id": "6vCSViYyw9h2"
      }
    },
    {
      "cell_type": "code",
      "source": [
        "import numpy as np\n",
        "\n",
        "a = np.random.randint(1,24,(6,4))\n",
        "\n",
        "s= a[:,2]\n",
        "s\n",
        "a"
      ],
      "metadata": {
        "id": "oFDJFrwQiIYX",
        "colab": {
          "base_uri": "https://localhost:8080/"
        },
        "outputId": "25e8061f-ca79-4159-c3d0-8072ba866f41"
      },
      "execution_count": null,
      "outputs": [
        {
          "output_type": "execute_result",
          "data": {
            "text/plain": [
              "array([[23, 18, 13, 18],\n",
              "       [13, 14, 21, 15],\n",
              "       [17,  7, 11, 20],\n",
              "       [16, 13, 12,  1],\n",
              "       [16,  3, 14,  1],\n",
              "       [13,  8,  5, 19]])"
            ]
          },
          "metadata": {},
          "execution_count": 1
        }
      ]
    },
    {
      "cell_type": "markdown",
      "source": [
        "в) Получите элементы с четными индексами из каждой строки двумерного массива:\n"
      ],
      "metadata": {
        "id": "v7WIg-wow-JL"
      }
    },
    {
      "cell_type": "code",
      "source": [],
      "metadata": {
        "id": "n8lUiV2BwjvN"
      },
      "execution_count": null,
      "outputs": []
    },
    {
      "cell_type": "markdown",
      "source": [
        "### **Задание №3: Операции над массивами**\n",
        "\n",
        "а) Умножьте все элементы одномерного массива на 3:"
      ],
      "metadata": {
        "id": "yOZ0wTV8w-nC"
      }
    },
    {
      "cell_type": "code",
      "source": [],
      "metadata": {
        "id": "r4iw6zDywj2A"
      },
      "execution_count": null,
      "outputs": []
    },
    {
      "cell_type": "markdown",
      "source": [
        "б) Возведите в квадрат каждый элемент двумерного массива:\n"
      ],
      "metadata": {
        "id": "rnWNLEdEw_Dv"
      }
    },
    {
      "cell_type": "code",
      "source": [],
      "metadata": {
        "id": "80t2ZsCGwqG7"
      },
      "execution_count": null,
      "outputs": []
    },
    {
      "cell_type": "markdown",
      "source": [
        "в) Найдите сумму всех элементов трехмерного массива:\n"
      ],
      "metadata": {
        "id": "q-jpF7P6w_hB"
      }
    },
    {
      "cell_type": "code",
      "source": [],
      "metadata": {
        "id": "y5ORPytrwqLt"
      },
      "execution_count": null,
      "outputs": []
    },
    {
      "cell_type": "markdown",
      "source": [
        "### **Задание №4: Использование функций и методов NumPy**\n",
        "\n",
        "а) Найдите среднее и стандартное отклонение элементов трехмерного массива:"
      ],
      "metadata": {
        "id": "jCmn-r74w__1"
      }
    },
    {
      "cell_type": "code",
      "source": [],
      "metadata": {
        "id": "mCRoKRAgwqTG"
      },
      "execution_count": null,
      "outputs": []
    },
    {
      "cell_type": "markdown",
      "source": [
        "б) Преобразуйте одномерный массив в двумерный массив размером 4x3:\n"
      ],
      "metadata": {
        "id": "YK74xADzxAb1"
      }
    },
    {
      "cell_type": "code",
      "source": [],
      "metadata": {
        "id": "hefq_4prwyvH"
      },
      "execution_count": null,
      "outputs": []
    },
    {
      "cell_type": "markdown",
      "source": [
        "в) Транспонируйте двумерный массив:\n"
      ],
      "metadata": {
        "id": "Mb4TXVhwxBx4"
      }
    },
    {
      "cell_type": "code",
      "source": [],
      "metadata": {
        "id": "TWi6UaPqla58"
      },
      "execution_count": null,
      "outputs": []
    },
    {
      "cell_type": "markdown",
      "source": [
        "### **Задание №5: Логическая индексация**\n",
        "\n",
        "а) Создайте одномерный массив из 15 случайных целых чисел от -10 до 10. Выберите все отрицательные числа:"
      ],
      "metadata": {
        "id": "qOKFHqw-xCVM"
      }
    },
    {
      "cell_type": "code",
      "source": [],
      "metadata": {
        "id": "Mkukh-QFw3i1"
      },
      "execution_count": null,
      "outputs": []
    },
    {
      "cell_type": "markdown",
      "source": [
        "б) Замените все четные числа в массиве на значение 0:\n"
      ],
      "metadata": {
        "id": "vT2Rw6KYxC-z"
      }
    },
    {
      "cell_type": "code",
      "source": [],
      "metadata": {
        "id": "K8J-sXXNw3uv"
      },
      "execution_count": null,
      "outputs": []
    },
    {
      "cell_type": "markdown",
      "source": [
        "### **Задание №6: Линейная алгебра**\n",
        "\n",
        "а) Создайте две матрицы размером 2x2 и найдите их произведение:"
      ],
      "metadata": {
        "id": "f5WqSRt-x62J"
      }
    },
    {
      "cell_type": "code",
      "source": [],
      "metadata": {
        "id": "2whdVqEaw32h"
      },
      "execution_count": null,
      "outputs": []
    },
    {
      "cell_type": "markdown",
      "source": [
        "б) Найдите собственные значения и собственные векторы матрицы:\n"
      ],
      "metadata": {
        "id": "g2n5A469x-Gc"
      }
    },
    {
      "cell_type": "code",
      "source": [],
      "metadata": {
        "id": "U2dRZWp_wy5H"
      },
      "execution_count": null,
      "outputs": []
    },
    {
      "cell_type": "markdown",
      "source": [
        "## **Блок №2: Средний уровень**\n",
        "\n",
        "### **Задание №1: Работа с многомерными массивами**\n",
        "\n",
        "а) Создайте четырехмерный массив размером 2x3x4x5 со случайными целыми числами от 0 до 100. Переставьте оси, чтобы новая форма массива стала 5x4x3x2:"
      ],
      "metadata": {
        "id": "Ms0sA7aDyEj7"
      }
    },
    {
      "cell_type": "code",
      "source": [],
      "metadata": {
        "id": "gjzCJxL-yFUv"
      },
      "execution_count": null,
      "outputs": []
    },
    {
      "cell_type": "markdown",
      "source": [
        "б) Преобразуйте полученный массив в двумерный массив без потери данных:\n"
      ],
      "metadata": {
        "id": "hMqp0Vofyw3D"
      }
    },
    {
      "cell_type": "code",
      "source": [],
      "metadata": {
        "id": "muw--sxfyFZz"
      },
      "execution_count": null,
      "outputs": []
    },
    {
      "cell_type": "markdown",
      "source": [
        "### **Задание №2: Маскирование и фильтрация**\n",
        "\n",
        "а) Создайте массив из 20 случайных целых чисел от -20 до 20. Замените все положительные числа на их куб:"
      ],
      "metadata": {
        "id": "PscIdWnhy1FZ"
      }
    },
    {
      "cell_type": "code",
      "source": [],
      "metadata": {
        "id": "7F6tarUPyFev"
      },
      "execution_count": null,
      "outputs": []
    },
    {
      "cell_type": "markdown",
      "source": [
        "б) Создайте двумерный массив и найдите элементы, которые равны минимальному значению в массиве:"
      ],
      "metadata": {
        "id": "JR2vyqmVy68R"
      }
    },
    {
      "cell_type": "code",
      "source": [],
      "metadata": {
        "id": "lwfz9qF0yFkt"
      },
      "execution_count": null,
      "outputs": []
    },
    {
      "cell_type": "markdown",
      "source": [
        "### **Задание №3: Агрегирование данных**\n",
        "\n",
        "а) Создайте двумерный массив со случайными числами. Вычислите сумму, среднее значение, максимальное и минимальное значение для всего массива:"
      ],
      "metadata": {
        "id": "0IEPWv4_zAXG"
      }
    },
    {
      "cell_type": "code",
      "source": [],
      "metadata": {
        "id": "ZeQXLM0LyFqU"
      },
      "execution_count": null,
      "outputs": []
    },
    {
      "cell_type": "markdown",
      "source": [
        "б) Создайте одномерный массив и вычислите кумулятивную сумму и кумулятивное произведение элементов:"
      ],
      "metadata": {
        "id": "pRDKJ7zLzEle"
      }
    },
    {
      "cell_type": "code",
      "source": [],
      "metadata": {
        "id": "qZwUXOWGyFwy"
      },
      "execution_count": null,
      "outputs": []
    },
    {
      "cell_type": "markdown",
      "source": [
        "### **Задание №4: Использование функций для работы с матрицами**\n",
        "\n",
        "а) Используйте функцию `np.linalg.inv` для нахождения обратной матрицы:"
      ],
      "metadata": {
        "id": "oZuD0lgSzNrl"
      }
    },
    {
      "cell_type": "code",
      "source": [],
      "metadata": {
        "id": "2d-HRi8QwkMO"
      },
      "execution_count": null,
      "outputs": []
    },
    {
      "cell_type": "markdown",
      "source": [
        "б) Решите систему линейных уравнений:\n",
        "\n",
        "$\n",
        "\\begin{cases}\n",
        "3x + y = 9 \\\\\n",
        "x + 2y = 8\n",
        "\\end{cases}\n",
        "$\n",
        "\n",
        "с использованием функции `np.linalg.solve`:"
      ],
      "metadata": {
        "id": "bsixuP9fzYUz"
      }
    },
    {
      "cell_type": "code",
      "source": [],
      "metadata": {
        "id": "fons6rp0yZkL"
      },
      "execution_count": null,
      "outputs": []
    },
    {
      "cell_type": "markdown",
      "source": [
        "### **Задание №5: Работа с датасетом**\n",
        "\n",
        "а) Загрузите датасет [wine quality](https://archive.ics.uci.edu/ml/datasets/Wine+Quality) (данные о качестве вина):"
      ],
      "metadata": {
        "id": "Czza0DcbzmEf"
      }
    },
    {
      "cell_type": "code",
      "source": [
        "# Задание 5а\n",
        "import numpy as np\n",
        "\n",
        "url = 'https://archive.ics.uci.edu/ml/machine-learning-databases/wine-quality/winequality-red.csv'\n",
        "data = np.genfromtxt(url, delimiter=';', skip_header=1)\n",
        "print(\"Данные о качестве вина загружены.\")"
      ],
      "metadata": {
        "id": "GYTFoqY4yZqU"
      },
      "execution_count": null,
      "outputs": []
    },
    {
      "cell_type": "markdown",
      "source": [
        "б) Выведите первые 3 строки датасета:\n"
      ],
      "metadata": {
        "id": "t_c4u3Jwzp6s"
      }
    },
    {
      "cell_type": "code",
      "source": [],
      "metadata": {
        "id": "Z7dQUGrQyZ6z"
      },
      "execution_count": null,
      "outputs": []
    },
    {
      "cell_type": "markdown",
      "source": [
        "в) Вычислите среднее значение уровней кислотности (первый столбец) во всем наборе данных:"
      ],
      "metadata": {
        "id": "0-c3KTVvzspX"
      }
    },
    {
      "cell_type": "code",
      "source": [],
      "metadata": {
        "id": "4bc5AiB0ynFm"
      },
      "execution_count": null,
      "outputs": []
    },
    {
      "cell_type": "markdown",
      "source": [
        "г) Используйте логическую индексацию для выбора всех образцов вина с качеством (последний столбец), равным 8, и выведите их количество:\n"
      ],
      "metadata": {
        "id": "j2E1wHIIzwtw"
      }
    },
    {
      "cell_type": "code",
      "source": [],
      "metadata": {
        "id": "P9ssCv8vypk_"
      },
      "execution_count": null,
      "outputs": []
    },
    {
      "cell_type": "markdown",
      "source": [
        "## **Блок №3: Повышенный уровень**"
      ],
      "metadata": {
        "id": "JUhdfjmiwUaq"
      }
    },
    {
      "cell_type": "markdown",
      "source": [
        "### **Задание №1: Реализация класса KNN для классификации**\n"
      ],
      "metadata": {
        "id": "kULaZor2zQH5"
      }
    },
    {
      "cell_type": "markdown",
      "source": [
        "\n",
        "**Постановка задачи:**  \n",
        "Создайте класс `KNNClassifier`, который реализует алгоритм классификации **k-ближайших соседей**.\n",
        "\n",
        "**Требования к реализации:**  \n",
        "- **Методы:**\n",
        "  - `fit(self, X_train, y_train)`: обучение модели на тренировочных данных.\n",
        "  - `predict(self, X_test, k=3)`: предсказание меток классов для тестовых данных.\n",
        "- **Использование евклидового расстояния:**  \n",
        "  Для определения ближайших соседей вычисляйте евклидово расстояние между точками.\n",
        "- **Тестирование:**  \n",
        "  Проверьте работу вашего классификатора на синтетических данных и сравните результаты с моделью из библиотеки `sklearn.neighbors.KNeighborsClassifier`."
      ],
      "metadata": {
        "id": "i6T5MkpgzNyF"
      }
    },
    {
      "cell_type": "markdown",
      "source": [
        "![Текст ссылки](https://i.pinimg.com/736x/28/dc/56/28dc560743a23089da36434668476c69.jpg)"
      ],
      "metadata": {
        "id": "dbAXh1YJ1PV9"
      }
    },
    {
      "cell_type": "markdown",
      "source": [
        "### **Математическое обоснование алгоритма KNN**\n",
        "\n"
      ],
      "metadata": {
        "id": "bKArt1dVzRBk"
      }
    },
    {
      "cell_type": "markdown",
      "source": [
        "#### **1. Евклидова метрика**"
      ],
      "metadata": {
        "id": "hNKWyTUdzVLJ"
      }
    },
    {
      "cell_type": "markdown",
      "source": [
        "\n",
        "Для двух векторов признаков $ \\mathbf{x} = (x_1, x_2, \\dots, x_m) $ и $ \\mathbf{z} = (z_1, z_2, \\dots, z_m) $ евклидово расстояние определяется следующим образом:\n",
        "\n",
        "$\n",
        "d(\\mathbf{x}, \\mathbf{z}) = \\sqrt{\\sum_{j=1}^{m} (x_j - z_j)^2}\n",
        "$\n",
        "\n",
        "Это расстояние используется для оценки степени сходства между тестовой точкой и точками из тренировочного набора."
      ],
      "metadata": {
        "id": "tgy2WU1mzV-i"
      }
    },
    {
      "cell_type": "markdown",
      "source": [
        "#### **2. Обучающая выборка и расчет расстояний**\n"
      ],
      "metadata": {
        "id": "ktHxFLLMzjgM"
      }
    },
    {
      "cell_type": "markdown",
      "source": [
        "\n",
        "\n",
        "\n",
        "Пусть тренировочная выборка имеет вид:\n",
        "\n",
        "$\n",
        "\\mathcal{D} = \\{ (\\mathbf{x}_1, y_1), (\\mathbf{x}_2, y_2), \\dots, (\\mathbf{x}_N, y_N) \\}\n",
        "$\n",
        "\n",
        "где $ \\mathbf{x}_i $ — вектор признаков, а $ y_i $ — метка класса.\n",
        "\n",
        "Для каждой тестовой точки $ \\mathbf{x} $ необходимо вычислить расстояние до каждой точки из тренировочной выборки:\n",
        "\n",
        "$\n",
        "d_i = d(\\mathbf{x}, \\mathbf{x}_i) = \\sqrt{\\sum_{j=1}^{m} (x_j - x_{ij})^2}, \\quad i=1,\\dots,N\n",
        "$"
      ],
      "metadata": {
        "id": "i00a54jJzmuI"
      }
    },
    {
      "cell_type": "markdown",
      "source": [
        "#### **3. Определение k ближайших соседей**\n",
        "\n"
      ],
      "metadata": {
        "id": "fQP_qMnozoKq"
      }
    },
    {
      "cell_type": "markdown",
      "source": [
        "После того как расстояния будут вычислены, выбираются $ k $ точек с наименьшими значениями $ d_i $. Обозначим индекс множества этих точек как $ S $:\n",
        "\n",
        "$\n",
        "S = \\{i_1, i_2, \\dots, i_k\\} \\quad \\text{где} \\quad d_{i_1} \\leq d_{i_2} \\leq \\dots \\leq d_{i_k} \\leq \\dots\n",
        "$"
      ],
      "metadata": {
        "id": "1FiVugO0zryj"
      }
    },
    {
      "cell_type": "markdown",
      "source": [
        "#### **4. Классификация методом большинства голосов**"
      ],
      "metadata": {
        "id": "WDGA2NomzyPz"
      }
    },
    {
      "cell_type": "markdown",
      "source": [
        "\n",
        "\n",
        "Для определения класса тестовой точки проводится голосование среди выбранных $ k $ ближайших соседей. Предсказанная метка $ \\hat{y} $ определяется как класс, встречающийся наиболее часто среди соседей:\n",
        "\n",
        "$\n",
        "\\hat{y} = \\operatorname*{arg\\,max}_{c \\in \\mathcal{C}} \\; \\sum_{i \\in S} \\mathbb{1}(y_i = c)\n",
        "$\n",
        "\n",
        "где:\n",
        "- $ \\mathcal{C} $ — множество всех возможных классов,\n",
        "- $ \\mathbb{1}(y_i = c) $ — индикаторная функция, равная 1, если $ y_i = c $, и 0 в противном случае.\n",
        "\n",
        "Таким образом, для каждой тестовой точки алгоритм:\n",
        "1. **Вычисляет** евклидовы расстояния до всех точек тренировочной выборки.\n",
        "2. **Отбирает** $ k $ точек с наименьшими расстояниями.\n",
        "3. **Применяет** правило большинства голосов для определения итоговой метки."
      ],
      "metadata": {
        "id": "vE4vi7qGzs5B"
      }
    },
    {
      "cell_type": "markdown",
      "source": [
        "---\n",
        "\n",
        "### **Пример входных и выходных данных**"
      ],
      "metadata": {
        "id": "4TkiUaJ2z4M8"
      }
    },
    {
      "cell_type": "markdown",
      "source": [
        "#### **Пример 1**\n"
      ],
      "metadata": {
        "id": "8BK8T0qf0AH7"
      }
    },
    {
      "cell_type": "markdown",
      "source": [
        "**Входные данные:**\n",
        "- **Тренировочные данные:**\n",
        "\n",
        "  ```python\n",
        "  import numpy as np\n",
        "  \n",
        "  # Пример двумерных данных\n",
        "  X_train = np.array([\n",
        "      [1.0, 1.0],\n",
        "      [2.0, 2.0],\n",
        "      [3.0, 3.0],\n",
        "      [6.0, 6.0]\n",
        "  ])\n",
        "  y_train = np.array([0, 0, 1, 1])\n",
        "  ```\n",
        "\n",
        "- **Тестовые данные:**\n",
        "\n",
        "  ```python\n",
        "  X_test = np.array([\n",
        "      [4.0, 4.0]\n",
        "  ])\n",
        "  ```\n",
        "\n",
        "- Выбор параметра $ k = 3 $."
      ],
      "metadata": {
        "id": "-_3oHXsm0ESz"
      }
    },
    {
      "cell_type": "markdown",
      "source": [
        "\n",
        "**Расчет расстояний от тестовой точки $[4.0, 4.0]$ до каждой точки тренировочной выборки:**\n",
        "\n",
        "1. Для $[1.0, 1.0]$:\n",
        "\n",
        "   $\n",
        "   d = \\sqrt{(4.0-1.0)^2 + (4.0-1.0)^2} = \\sqrt{9 + 9} \\approx 4.24\n",
        "   $\n",
        "\n",
        "2. Для $[2.0, 2.0]$:\n",
        "\n",
        "   $\n",
        "   d = \\sqrt{(4.0-2.0)^2 + (4.0-2.0)^2} = \\sqrt{4 + 4} \\approx 2.83\n",
        "   $\n",
        "\n",
        "3. Для $[3.0, 3.0]$:\n",
        "\n",
        "   $\n",
        "   d = \\sqrt{(4.0-3.0)^2 + (4.0-3.0)^2} = \\sqrt{1 + 1} \\approx 1.41\n",
        "   $\n",
        "\n",
        "4. Для $[6.0, 6.0]$:\n",
        "\n",
        "   $\n",
        "   d = \\sqrt{(4.0-6.0)^2 + (4.0-6.0)^2} = \\sqrt{4 + 4} \\approx 2.83\n",
        "   $"
      ],
      "metadata": {
        "id": "pOX5Gwpp0FSE"
      }
    },
    {
      "cell_type": "markdown",
      "source": [
        "\n",
        "\n",
        "\n",
        "\n",
        "**Определение k ближайших соседей (при $ k = 3 $):**\n",
        "\n",
        "- Индексы ближайших точек (по возрастанию расстояния):  \n",
        "  $ \\mathbf{x} = [3.0, 3.0] $ (расстояние 1.41, класс 1),  \n",
        "  $ \\mathbf{x} = [2.0, 2.0] $ (расстояние 2.83, класс 0),  \n",
        "  $ \\mathbf{x} = [6.0, 6.0] $ (расстояние 2.83, класс 1).\n",
        "\n",
        "**Голосование:**\n",
        "\n",
        "- Класс 1: встречается 2 раза.\n",
        "- Класс 0: встречается 1 раз.\n",
        "\n",
        "**Выходные данные:**\n",
        "\n",
        "Классификатор предсказывает метку:\n",
        "\n",
        "```python\n",
        "y_pred = [1]\n",
        "```"
      ],
      "metadata": {
        "id": "JJ_VagnqzHc5"
      }
    },
    {
      "cell_type": "markdown",
      "source": [
        "**Проверим рассчеты, получив предсказание классификатора KNeighborsClassifier из sklearn**"
      ],
      "metadata": {
        "id": "uKvFUjC54hOd"
      }
    },
    {
      "cell_type": "code",
      "source": [
        "import numpy as np\n",
        "import matplotlib.pyplot as plt\n",
        "from sklearn.neighbors import KNeighborsClassifier\n",
        "\n",
        "# Пример двумерных данных\n",
        "X_train = np.array([\n",
        "    [1.0, 1.0],\n",
        "    [2.0, 2.0],\n",
        "    [3.0, 3.0],\n",
        "    [6.0, 6.0]\n",
        "])\n",
        "y_train = np.array([0, 0, 1, 1])\n",
        "\n",
        "X_test = np.array([\n",
        "    [4.0, 4.0]\n",
        "])\n",
        "\n",
        "# Создаём и обучаем классификатор KNeighborsClassifier из sklearn с параметром k=3\n",
        "knn = KNeighborsClassifier(n_neighbors=3, metric='euclidean')\n",
        "knn.fit(X_train, y_train)\n",
        "\n",
        "# Предсказываем класс для тестовой точки\n",
        "y_pred = knn.predict(X_test)\n",
        "print(\"Предсказанная метка (sklearn):\", y_pred[0])"
      ],
      "metadata": {
        "colab": {
          "base_uri": "https://localhost:8080/"
        },
        "outputId": "b20b79c9-0418-4b55-e886-2491a410cec2",
        "id": "AzWxzsSD3lux"
      },
      "execution_count": null,
      "outputs": [
        {
          "output_type": "stream",
          "name": "stdout",
          "text": [
            "Предсказанная метка (sklearn): 1\n"
          ]
        }
      ]
    },
    {
      "cell_type": "code",
      "source": [
        "# Визуализация данных\n",
        "plt.figure(figsize=(6, 6))\n",
        "\n",
        "# Отображение тренировочных данных, разделённых по классам\n",
        "plt.scatter(X_train[y_train == 0][:, 0],\n",
        "            X_train[y_train == 0][:, 1],\n",
        "            color='blue', label='Класс 0', s=100)\n",
        "plt.scatter(X_train[y_train == 1][:, 0],\n",
        "            X_train[y_train == 1][:, 1],\n",
        "            color='green', label='Класс 1', s=100)\n",
        "\n",
        "# Отображение тестовой точки\n",
        "plt.scatter(X_test[:, 0], X_test[:, 1],\n",
        "            color='red', marker='*', s=200, label='Тестовая точка')\n",
        "\n",
        "plt.xlabel('Признак 1')\n",
        "plt.ylabel('Признак 2')\n",
        "plt.title('Визуализация k-ближайших соседей (k=3)')\n",
        "plt.legend()\n",
        "plt.show()"
      ],
      "metadata": {
        "colab": {
          "base_uri": "https://localhost:8080/",
          "height": 564
        },
        "id": "MZnPDFQ_35J0",
        "outputId": "24c0c9f6-095b-40c4-fa4b-44c8256f70c4"
      },
      "execution_count": null,
      "outputs": [
        {
          "output_type": "display_data",
          "data": {
            "text/plain": [
              "<Figure size 600x600 with 1 Axes>"
            ],
            "image/png": "[encoded data removed]"
          },
          "metadata": {}
        }
      ]
    },
    {
      "cell_type": "markdown",
      "source": [
        "### **Ваша реализация**"
      ],
      "metadata": {
        "id": "c-pP9_Ry42rj"
      }
    },
    {
      "cell_type": "code",
      "source": [
        "# Ваш код"
      ],
      "metadata": {
        "id": "YBN2Ga3J5AcP"
      },
      "execution_count": null,
      "outputs": []
    }
  ]
}